{
 "cells": [
  {
   "cell_type": "code",
   "execution_count": 1,
   "metadata": {},
   "outputs": [
    {
     "name": "stderr",
     "output_type": "stream",
     "text": [
      "Using TensorFlow backend.\n",
      "/Users/yaramohajerani/opt/anaconda3/lib/python3.7/site-packages/tensorflow/python/framework/dtypes.py:516: FutureWarning: Passing (type, 1) or '1type' as a synonym of type is deprecated; in a future version of numpy, it will be understood as (type, (1,)) / '(1,)type'.\n",
      "  _np_qint8 = np.dtype([(\"qint8\", np.int8, 1)])\n",
      "/Users/yaramohajerani/opt/anaconda3/lib/python3.7/site-packages/tensorflow/python/framework/dtypes.py:517: FutureWarning: Passing (type, 1) or '1type' as a synonym of type is deprecated; in a future version of numpy, it will be understood as (type, (1,)) / '(1,)type'.\n",
      "  _np_quint8 = np.dtype([(\"quint8\", np.uint8, 1)])\n",
      "/Users/yaramohajerani/opt/anaconda3/lib/python3.7/site-packages/tensorflow/python/framework/dtypes.py:518: FutureWarning: Passing (type, 1) or '1type' as a synonym of type is deprecated; in a future version of numpy, it will be understood as (type, (1,)) / '(1,)type'.\n",
      "  _np_qint16 = np.dtype([(\"qint16\", np.int16, 1)])\n",
      "/Users/yaramohajerani/opt/anaconda3/lib/python3.7/site-packages/tensorflow/python/framework/dtypes.py:519: FutureWarning: Passing (type, 1) or '1type' as a synonym of type is deprecated; in a future version of numpy, it will be understood as (type, (1,)) / '(1,)type'.\n",
      "  _np_quint16 = np.dtype([(\"quint16\", np.uint16, 1)])\n",
      "/Users/yaramohajerani/opt/anaconda3/lib/python3.7/site-packages/tensorflow/python/framework/dtypes.py:520: FutureWarning: Passing (type, 1) or '1type' as a synonym of type is deprecated; in a future version of numpy, it will be understood as (type, (1,)) / '(1,)type'.\n",
      "  _np_qint32 = np.dtype([(\"qint32\", np.int32, 1)])\n",
      "/Users/yaramohajerani/opt/anaconda3/lib/python3.7/site-packages/tensorflow/python/framework/dtypes.py:525: FutureWarning: Passing (type, 1) or '1type' as a synonym of type is deprecated; in a future version of numpy, it will be understood as (type, (1,)) / '(1,)type'.\n",
      "  np_resource = np.dtype([(\"resource\", np.ubyte, 1)])\n",
      "/Users/yaramohajerani/opt/anaconda3/lib/python3.7/site-packages/tensorboard/compat/tensorflow_stub/dtypes.py:541: FutureWarning: Passing (type, 1) or '1type' as a synonym of type is deprecated; in a future version of numpy, it will be understood as (type, (1,)) / '(1,)type'.\n",
      "  _np_qint8 = np.dtype([(\"qint8\", np.int8, 1)])\n",
      "/Users/yaramohajerani/opt/anaconda3/lib/python3.7/site-packages/tensorboard/compat/tensorflow_stub/dtypes.py:542: FutureWarning: Passing (type, 1) or '1type' as a synonym of type is deprecated; in a future version of numpy, it will be understood as (type, (1,)) / '(1,)type'.\n",
      "  _np_quint8 = np.dtype([(\"quint8\", np.uint8, 1)])\n",
      "/Users/yaramohajerani/opt/anaconda3/lib/python3.7/site-packages/tensorboard/compat/tensorflow_stub/dtypes.py:543: FutureWarning: Passing (type, 1) or '1type' as a synonym of type is deprecated; in a future version of numpy, it will be understood as (type, (1,)) / '(1,)type'.\n",
      "  _np_qint16 = np.dtype([(\"qint16\", np.int16, 1)])\n",
      "/Users/yaramohajerani/opt/anaconda3/lib/python3.7/site-packages/tensorboard/compat/tensorflow_stub/dtypes.py:544: FutureWarning: Passing (type, 1) or '1type' as a synonym of type is deprecated; in a future version of numpy, it will be understood as (type, (1,)) / '(1,)type'.\n",
      "  _np_quint16 = np.dtype([(\"quint16\", np.uint16, 1)])\n",
      "/Users/yaramohajerani/opt/anaconda3/lib/python3.7/site-packages/tensorboard/compat/tensorflow_stub/dtypes.py:545: FutureWarning: Passing (type, 1) or '1type' as a synonym of type is deprecated; in a future version of numpy, it will be understood as (type, (1,)) / '(1,)type'.\n",
      "  _np_qint32 = np.dtype([(\"qint32\", np.int32, 1)])\n",
      "/Users/yaramohajerani/opt/anaconda3/lib/python3.7/site-packages/tensorboard/compat/tensorflow_stub/dtypes.py:550: FutureWarning: Passing (type, 1) or '1type' as a synonym of type is deprecated; in a future version of numpy, it will be understood as (type, (1,)) / '(1,)type'.\n",
      "  np_resource = np.dtype([(\"resource\", np.ubyte, 1)])\n"
     ]
    }
   ],
   "source": [
    "#-- Import Modules\n",
    "import os\n",
    "import imp\n",
    "import numpy as np\n",
    "import rasterio\n",
    "import matplotlib.pyplot as plt \n",
    "import keras\n",
    "from keras import backend as K\n",
    "from keras.preprocessing import image\n",
    "from tensorflow.python.client import device_lib\n",
    "from keras.callbacks import ReduceLROnPlateau, EarlyStopping\n",
    "from sklearn.utils import class_weight\n",
    "from PIL import Image\n",
    "from skimage import feature\n",
    "from skimage.morphology import skeletonize\n",
    "from skimage.segmentation import chan_vese\n",
    "from skimage.restoration import unwrap_phase\n",
    "from skimage.filters import meijering, sato, frangi, hessian\n",
    "from skimage.morphology import binary_dilation"
   ]
  },
  {
   "cell_type": "code",
   "execution_count": 4,
   "metadata": {},
   "outputs": [],
   "source": [
    "#-- Set up configurations / parameters\n",
    "retrain = False # retrain previously existing model\n",
    "ndown = 4 # number of 'down' steps\n",
    "ninit = 32 #number of channels to start with\n",
    "dropout_frac = 0.2 # dropout fraction\n",
    "n_batch = 10\n",
    "n_epochs = 60\n",
    "dilation_kernel = 4 #-- kernel size for increasing thickness of training labels\n",
    "dilate = False\n",
    "augment = False\n",
    "suffix = ''\n",
    "if dilate:\n",
    "  suffix += '_dilated'\n",
    "if augment:\n",
    "  suffix += '_augmented'\n",
    "aug_num = 1"
   ]
  },
  {
   "cell_type": "code",
   "execution_count": 2,
   "metadata": {},
   "outputs": [],
   "source": [
    "#-- Directory setup\n",
    "colabdir = os.path.expanduser('~/Google Drive File Stream/My Drive/Colab Notebooks/')\n",
    "ddir = os.path.expanduser('~/Google Drive File Stream/Shared drives/GROUNDING_LINE_TEAM_DRIVE/ML_Yara/')\n",
    "train_dir = os.path.join(ddir,'Slant_Imagery','training_data')\n",
    "test_dir = os.path.join(ddir,'Slant_Imagery','testing_data')\n",
    "\n",
    "#-- Get list of images\n",
    "fileList = os.listdir(train_dir)\n",
    "train_list = [f for f in fileList if f.endswith('_coco.tif')]\n",
    "fileList = os.listdir(test_dir)\n",
    "test_list = [f for f in fileList if f.endswith('_coco.tif')]"
   ]
  },
  {
   "cell_type": "code",
   "execution_count": 10,
   "metadata": {},
   "outputs": [],
   "source": [
    "raster = rasterio.open(os.path.join(train_dir,train_list[15]))\n",
    "im = raster.read(1)\n",
    "channels = raster.count\n",
    "\n",
    "#-- Read training images\n",
    "train_imgs = np.ones((len(train_list)*aug_num,im.shape[0],im.shape[1],channels))\n",
    "train_lbls = np.ones((len(train_list)*aug_num,im.shape[0],im.shape[1],1))\n",
    "for i,f in enumerate(train_list):\n",
    "    #-- read image\n",
    "    raster = rasterio.open(os.path.join(train_dir,f))\n",
    "    for c in range(channels):\n",
    "        train_imgs[i,:,:,c] = raster.read(c+1)\n",
    "        # train_imgs[i+1,:,:,c] = np.fliplr(raster.read(c+1))\n",
    "        # train_imgs[i+2,:,:,c] = np.flipud(raster.read(c+1))\n",
    "        # train_imgs[i+3,:,:,c] = np.fliplr(np.flipud(raster.read(c+1)))\n",
    "    #-- read label\n",
    "    raster = rasterio.open(os.path.join(train_dir,f.replace('coco.tif','mask.tif')))\n",
    "    if dilate:\n",
    "      train_lbls[i,:,:,0] = binary_dilation(raster.read(1))\n",
    "    else:\n",
    "      train_lbls[i,:,:,0] = raster.read(1)\n",
    "    # train_lbls[i+1,:,:,0] = binary_dilation(np.fliplr(raster.read(1)))\n",
    "    # train_lbls[i+2,:,:,0] = binary_dilation(np.flipud(raster.read(1)))\n",
    "    # train_lbls[i+3,:,:,0] = binary_dilation(np.fliplr(np.flipud(raster.read(1))))\n",
    "    #i += 4\n",
    "\n",
    "#-- Read test data\n",
    "test_imgs = np.ones((len(test_list),im.shape[0],im.shape[1],channels))\n",
    "test_lbls = np.ones((len(test_list),im.shape[0],im.shape[1],1))\n",
    "for i,f in enumerate(test_list):\n",
    "    #-- read image\n",
    "    raster = rasterio.open(os.path.join(test_dir,f))\n",
    "    for c in range(channels):\n",
    "        test_imgs[i,:,:,c] = raster.read(c+1) #.transpose()\n",
    "    #-- read label\n",
    "    raster = rasterio.open(os.path.join(test_dir,f.replace('coco.tif','mask.tif')))\n",
    "    test_lbls[i,:,:,0] = raster.read(1)\n",
    "    # test_lbls[i,:,:,0] = cv2.dilate(raster.read(1),kernel,iterations = 1) #.transpose()"
   ]
  },
  {
   "cell_type": "code",
   "execution_count": 8,
   "metadata": {},
   "outputs": [],
   "source": [
    "model = keras.applications.xception.Xception(include_top=False, weights='imagenet', input_tensor=None, input_shape=(512,512,3), pooling='avg')"
   ]
  },
  {
   "cell_type": "code",
   "execution_count": 14,
   "metadata": {},
   "outputs": [
    {
     "data": {
      "text/plain": [
       "(34, 2048)"
      ]
     },
     "execution_count": 14,
     "metadata": {},
     "output_type": "execute_result"
    }
   ],
   "source": [
    "features.shape"
   ]
  },
  {
   "cell_type": "code",
   "execution_count": 17,
   "metadata": {
    "scrolled": true
   },
   "outputs": [
    {
     "name": "stdout",
     "output_type": "stream",
     "text": [
      "Downloading data from https://github.com/fchollet/deep-learning-models/releases/download/v0.1/vgg16_weights_tf_dim_ordering_tf_kernels_notop.h5\n",
      "58892288/58889256 [==============================] - 20s 0us/step\n"
     ]
    }
   ],
   "source": [
    "from keras.applications.vgg16 import VGG16\n",
    "model = VGG16(weights='imagenet', include_top=False)"
   ]
  },
  {
   "cell_type": "code",
   "execution_count": 18,
   "metadata": {},
   "outputs": [],
   "source": [
    "features = model.predict(test_imgs)"
   ]
  },
  {
   "cell_type": "code",
   "execution_count": 19,
   "metadata": {},
   "outputs": [
    {
     "data": {
      "text/plain": [
       "(34, 16, 16, 512)"
      ]
     },
     "execution_count": 19,
     "metadata": {},
     "output_type": "execute_result"
    }
   ],
   "source": [
    "features.shape"
   ]
  },
  {
   "cell_type": "code",
   "execution_count": 28,
   "metadata": {},
   "outputs": [
    {
     "data": {
      "image/png": "[encoded data removed]",
      "text/plain": [
       "<Figure size 432x288 with 1 Axes>"
      ]
     },
     "metadata": {
      "needs_background": "light"
     },
     "output_type": "display_data"
    }
   ],
   "source": [
    "plt.imshow(features[0,:,:,0])\n",
    "plt.show()"
   ]
  },
  {
   "cell_type": "code",
   "execution_count": null,
   "metadata": {},
   "outputs": [],
   "source": []
  }
 ],
 "metadata": {
  "kernelspec": {
   "display_name": "Python 3.7.4 64-bit ('base': conda)",
   "language": "python",
   "name": "python37464bitbasecondaeab7d041c0774890a74969d299d600af"
  },
  "language_info": {
   "codemirror_mode": {
    "name": "ipython",
    "version": 3
   },
   "file_extension": ".py",
   "mimetype": "text/x-python",
   "name": "python",
   "nbconvert_exporter": "python",
   "pygments_lexer": "ipython3",
   "version": "3.7.4"
  }
 },
 "nbformat": 4,
 "nbformat_minor": 2
}
